{
 "cells": [
  {
   "cell_type": "code",
   "execution_count": 1,
   "id": "14d8ac18",
   "metadata": {},
   "outputs": [],
   "source": [
    "# Task 1 Easy (+0.1)\n",
    "\n",
    "\n",
    "def func(list1):\n",
    "    if not list1:\n",
    "        return None\n",
    "    list1_size = len(list1)\n",
    "    sorted_list1 = sorted(list1)\n",
    "    dict_values = {}\n",
    "    mean = round(sum(list1) / list1_size, 4)\n",
    "    if list1_size % 2 == 0:\n",
    "        median = (sorted_list1[list1_size // 2 - 1] + sorted_list1[list1_size // 2]) / 2\n",
    "    else:\n",
    "        median = sorted_list1[list1_size // 2]\n",
    "    for x in list1:\n",
    "        dict_values[x] = dict_values.get(x, 0) + 1\n",
    "    mode = max(dict_values, key=dict_values.get)\n",
    "    dict1 = {\n",
    "        \"mean\": mean, \"median\": median, \"mode\": mode\n",
    "    }\n",
    "    return dict1"
   ]
  },
  {
   "cell_type": "code",
   "execution_count": 2,
   "id": "fb096781",
   "metadata": {
    "scrolled": true
   },
   "outputs": [
    {
     "data": {
      "text/plain": [
       "{'mean': 3.4286, 'median': 3, 'mode': 1}"
      ]
     },
     "execution_count": 2,
     "metadata": {},
     "output_type": "execute_result"
    }
   ],
   "source": [
    "# Example\n",
    "func([0, 1, 1, 10, 5, 4, 3])"
   ]
  },
  {
   "cell_type": "code",
   "execution_count": 3,
   "id": "93a44613",
   "metadata": {},
   "outputs": [],
   "source": [
    "# Task 2 Medium (+0.4)\n",
    "import ast\n",
    "import re\n",
    "from typing import List, Dict\n",
    "\n",
    "\n",
    "def parse_csv(file_content: str) -> List[Dict]:\n",
    "    result_list = []\n",
    "    lines = file_content.splitlines()\n",
    "    features = lines[0].split(',')\n",
    "    for line in lines[1:]:\n",
    "        parts = re.split(r',(?=\"|\\[)', line)\n",
    "        last_part = ast.literal_eval(parts[-1])\n",
    "        first_part = parts[0].split(\",\")\n",
    "        values = list(first_part)\n",
    "        values.append(last_part)\n",
    "        dict_for_one_hero = {}\n",
    "        for feature, value in zip(features, values):\n",
    "            dict_for_one_hero[feature] = value\n",
    "        result_list.append(dict_for_one_hero)\n",
    "\n",
    "    return result_list\n"
   ]
  },
  {
   "cell_type": "code",
   "execution_count": 4,
   "id": "9ced6b76",
   "metadata": {},
   "outputs": [
    {
     "name": "stdout",
     "output_type": "stream",
     "text": [
      "[{'': '0', 'attack_type': 'Melee', 'id': '1', 'legs': '2', 'localized_name': 'Anti-Mage', 'name': 'npc_dota_hero_antimage', 'primary_attr': 'agi', 'roles': \"['Carry', 'Escape', 'Nuker']\"}, {'': '1', 'attack_type': 'Melee', 'id': '2', 'legs': '2', 'localized_name': 'Axe', 'name': 'npc_dota_hero_axe', 'primary_attr': 'str', 'roles': \"['Initiator', 'Durable', 'Disabler', 'Jungler']\"}, {'': '2', 'attack_type': 'Ranged', 'id': '3', 'legs': '4', 'localized_name': 'Bane', 'name': 'npc_dota_hero_bane', 'primary_attr': 'int', 'roles': \"['Support', 'Disabler', 'Nuker', 'Durable']\"}, {'': '3', 'attack_type': 'Melee', 'id': '4', 'legs': '2', 'localized_name': 'Bloodseeker', 'name': 'npc_dota_hero_bloodseeker', 'primary_attr': 'agi', 'roles': \"['Carry', 'Disabler', 'Jungler', 'Nuker', 'Initiator']\"}, {'': '4', 'attack_type': 'Ranged', 'id': '5', 'legs': '2', 'localized_name': 'Crystal Maiden', 'name': 'npc_dota_hero_crystal_maiden', 'primary_attr': 'int', 'roles': \"['Support', 'Disabler', 'Nuker', 'Jungler']\"}, {'': '5', 'attack_type': 'Ranged', 'id': '6', 'legs': '2', 'localized_name': 'Drow Ranger', 'name': 'npc_dota_hero_drow_ranger', 'primary_attr': 'agi', 'roles': \"['Carry', 'Disabler', 'Pusher']\"}, {'': '6', 'attack_type': 'Melee', 'id': '7', 'legs': '2', 'localized_name': 'Earthshaker', 'name': 'npc_dota_hero_earthshaker', 'primary_attr': 'str', 'roles': \"['Support', 'Initiator', 'Disabler', 'Nuker']\"}, {'': '7', 'attack_type': 'Melee', 'id': '8', 'legs': '2', 'localized_name': 'Juggernaut', 'name': 'npc_dota_hero_juggernaut', 'primary_attr': 'agi', 'roles': \"['Carry', 'Pusher', 'Escape']\"}, {'': '8', 'attack_type': 'Ranged', 'id': '9', 'legs': '2', 'localized_name': 'Mirana', 'name': 'npc_dota_hero_mirana', 'primary_attr': 'agi', 'roles': \"['Carry', 'Support', 'Escape', 'Nuker', 'Disabler']\"}, {'': '9', 'attack_type': 'Ranged', 'id': '10', 'legs': '0', 'localized_name': 'Morphling', 'name': 'npc_dota_hero_morphling', 'primary_attr': 'agi', 'roles': \"['Carry', 'Escape', 'Durable', 'Nuker', 'Disabler']\"}, {'': '10', 'attack_type': 'Ranged', 'id': '11', 'legs': '0', 'localized_name': 'Shadow Fiend', 'name': 'npc_dota_hero_nevermore', 'primary_attr': 'agi', 'roles': \"['Carry', 'Nuker']\"}, {'': '11', 'attack_type': 'Melee', 'id': '12', 'legs': '2', 'localized_name': 'Phantom Lancer', 'name': 'npc_dota_hero_phantom_lancer', 'primary_attr': 'agi', 'roles': \"['Carry', 'Escape', 'Pusher', 'Nuker']\"}, {'': '12', 'attack_type': 'Ranged', 'id': '13', 'legs': '2', 'localized_name': 'Puck', 'name': 'npc_dota_hero_puck', 'primary_attr': 'int', 'roles': \"['Initiator', 'Disabler', 'Escape', 'Nuker']\"}, {'': '13', 'attack_type': 'Melee', 'id': '14', 'legs': '2', 'localized_name': 'Pudge', 'name': 'npc_dota_hero_pudge', 'primary_attr': 'str', 'roles': \"['Disabler', 'Initiator', 'Durable', 'Nuker']\"}, {'': '14', 'attack_type': 'Ranged', 'id': '15', 'legs': '0', 'localized_name': 'Razor', 'name': 'npc_dota_hero_razor', 'primary_attr': 'agi', 'roles': \"['Carry', 'Durable', 'Nuker', 'Pusher']\"}, {'': '15', 'attack_type': 'Melee', 'id': '16', 'legs': '6', 'localized_name': 'Sand King', 'name': 'npc_dota_hero_sand_king', 'primary_attr': 'str', 'roles': \"['Initiator', 'Disabler', 'Support', 'Nuker', 'Escape', 'Jungler']\"}, {'': '16', 'attack_type': 'Ranged', 'id': '17', 'legs': '2', 'localized_name': 'Storm Spirit', 'name': 'npc_dota_hero_storm_spirit', 'primary_attr': 'int', 'roles': \"['Carry', 'Escape', 'Nuker', 'Initiator', 'Disabler']\"}, {'': '17', 'attack_type': 'Melee', 'id': '18', 'legs': '2', 'localized_name': 'Sven', 'name': 'npc_dota_hero_sven', 'primary_attr': 'str', 'roles': \"['Carry', 'Disabler', 'Initiator', 'Durable', 'Nuker']\"}, {'': '18', 'attack_type': 'Melee', 'id': '19', 'legs': '2', 'localized_name': 'Tiny', 'name': 'npc_dota_hero_tiny', 'primary_attr': 'str', 'roles': \"['Carry', 'Nuker', 'Pusher', 'Initiator', 'Durable', 'Disabler']\"}, {'': '19', 'attack_type': 'Ranged', 'id': '20', 'legs': '2', 'localized_name': 'Vengeful Spirit', 'name': 'npc_dota_hero_vengefulspirit', 'primary_attr': 'agi', 'roles': \"['Support', 'Initiator', 'Disabler', 'Nuker', 'Escape']\"}, {'': '20', 'attack_type': 'Ranged', 'id': '21', 'legs': '2', 'localized_name': 'Windranger', 'name': 'npc_dota_hero_windrunner', 'primary_attr': 'int', 'roles': \"['Carry', 'Support', 'Disabler', 'Escape', 'Nuker']\"}, {'': '21', 'attack_type': 'Ranged', 'id': '22', 'legs': '2', 'localized_name': 'Zeus', 'name': 'npc_dota_hero_zuus', 'primary_attr': 'int', 'roles': ['Nuker']}, {'': '22', 'attack_type': 'Melee', 'id': '23', 'legs': '2', 'localized_name': 'Kunkka', 'name': 'npc_dota_hero_kunkka', 'primary_attr': 'str', 'roles': \"['Carry', 'Support', 'Disabler', 'Initiator', 'Durable', 'Nuker']\"}, {'': '23', 'attack_type': 'Ranged', 'id': '25', 'legs': '2', 'localized_name': 'Lina', 'name': 'npc_dota_hero_lina', 'primary_attr': 'int', 'roles': \"['Support', 'Carry', 'Nuker', 'Disabler']\"}, {'': '24', 'attack_type': 'Ranged', 'id': '26', 'legs': '2', 'localized_name': 'Lion', 'name': 'npc_dota_hero_lion', 'primary_attr': 'int', 'roles': \"['Support', 'Disabler', 'Nuker', 'Initiator']\"}, {'': '25', 'attack_type': 'Ranged', 'id': '27', 'legs': '2', 'localized_name': 'Shadow Shaman', 'name': 'npc_dota_hero_shadow_shaman', 'primary_attr': 'int', 'roles': \"['Support', 'Pusher', 'Disabler', 'Nuker', 'Initiator']\"}, {'': '26', 'attack_type': 'Melee', 'id': '28', 'legs': '0', 'localized_name': 'Slardar', 'name': 'npc_dota_hero_slardar', 'primary_attr': 'str', 'roles': \"['Carry', 'Durable', 'Initiator', 'Disabler', 'Escape']\"}, {'': '27', 'attack_type': 'Melee', 'id': '29', 'legs': '2', 'localized_name': 'Tidehunter', 'name': 'npc_dota_hero_tidehunter', 'primary_attr': 'str', 'roles': \"['Initiator', 'Durable', 'Disabler', 'Nuker']\"}, {'': '28', 'attack_type': 'Ranged', 'id': '30', 'legs': '2', 'localized_name': 'Witch Doctor', 'name': 'npc_dota_hero_witch_doctor', 'primary_attr': 'int', 'roles': \"['Support', 'Nuker', 'Disabler']\"}, {'': '29', 'attack_type': 'Ranged', 'id': '31', 'legs': '2', 'localized_name': 'Lich', 'name': 'npc_dota_hero_lich', 'primary_attr': 'int', 'roles': \"['Support', 'Nuker']\"}, {'': '30', 'attack_type': 'Melee', 'id': '32', 'legs': '2', 'localized_name': 'Riki', 'name': 'npc_dota_hero_riki', 'primary_attr': 'agi', 'roles': \"['Carry', 'Escape', 'Disabler']\"}, {'': '31', 'attack_type': 'Ranged', 'id': '33', 'legs': '0', 'localized_name': 'Enigma', 'name': 'npc_dota_hero_enigma', 'primary_attr': 'int', 'roles': \"['Disabler', 'Jungler', 'Initiator', 'Pusher']\"}, {'': '32', 'attack_type': 'Ranged', 'id': '34', 'legs': '2', 'localized_name': 'Tinker', 'name': 'npc_dota_hero_tinker', 'primary_attr': 'int', 'roles': \"['Carry', 'Nuker', 'Pusher']\"}, {'': '33', 'attack_type': 'Ranged', 'id': '35', 'legs': '2', 'localized_name': 'Sniper', 'name': 'npc_dota_hero_sniper', 'primary_attr': 'agi', 'roles': \"['Carry', 'Nuker']\"}, {'': '34', 'attack_type': 'Ranged', 'id': '36', 'legs': '2', 'localized_name': 'Necrophos', 'name': 'npc_dota_hero_necrolyte', 'primary_attr': 'int', 'roles': \"['Carry', 'Nuker', 'Durable', 'Disabler']\"}, {'': '35', 'attack_type': 'Ranged', 'id': '37', 'legs': '2', 'localized_name': 'Warlock', 'name': 'npc_dota_hero_warlock', 'primary_attr': 'int', 'roles': \"['Support', 'Initiator', 'Disabler']\"}, {'': '36', 'attack_type': 'Melee', 'id': '38', 'legs': '2', 'localized_name': 'Beastmaster', 'name': 'npc_dota_hero_beastmaster', 'primary_attr': 'str', 'roles': \"['Initiator', 'Disabler', 'Durable', 'Nuker']\"}, {'': '37', 'attack_type': 'Ranged', 'id': '39', 'legs': '2', 'localized_name': 'Queen of Pain', 'name': 'npc_dota_hero_queenofpain', 'primary_attr': 'int', 'roles': \"['Carry', 'Nuker', 'Escape']\"}, {'': '38', 'attack_type': 'Ranged', 'id': '40', 'legs': '0', 'localized_name': 'Venomancer', 'name': 'npc_dota_hero_venomancer', 'primary_attr': 'agi', 'roles': \"['Support', 'Nuker', 'Initiator', 'Pusher', 'Disabler']\"}, {'': '39', 'attack_type': 'Melee', 'id': '41', 'legs': '2', 'localized_name': 'Faceless Void', 'name': 'npc_dota_hero_faceless_void', 'primary_attr': 'agi', 'roles': \"['Carry', 'Initiator', 'Disabler', 'Escape', 'Durable']\"}, {'': '40', 'attack_type': 'Melee', 'id': '42', 'legs': '2', 'localized_name': 'Wraith King', 'name': 'npc_dota_hero_skeleton_king', 'primary_attr': 'str', 'roles': \"['Carry', 'Support', 'Durable', 'Disabler', 'Initiator']\"}, {'': '41', 'attack_type': 'Ranged', 'id': '43', 'legs': '2', 'localized_name': 'Death Prophet', 'name': 'npc_dota_hero_death_prophet', 'primary_attr': 'int', 'roles': \"['Carry', 'Pusher', 'Nuker', 'Disabler']\"}, {'': '42', 'attack_type': 'Melee', 'id': '44', 'legs': '2', 'localized_name': 'Phantom Assassin', 'name': 'npc_dota_hero_phantom_assassin', 'primary_attr': 'agi', 'roles': \"['Carry', 'Escape']\"}, {'': '43', 'attack_type': 'Ranged', 'id': '45', 'legs': '2', 'localized_name': 'Pugna', 'name': 'npc_dota_hero_pugna', 'primary_attr': 'int', 'roles': \"['Nuker', 'Pusher']\"}, {'': '44', 'attack_type': 'Ranged', 'id': '46', 'legs': '2', 'localized_name': 'Templar Assassin', 'name': 'npc_dota_hero_templar_assassin', 'primary_attr': 'agi', 'roles': \"['Carry', 'Escape']\"}, {'': '45', 'attack_type': 'Ranged', 'id': '47', 'legs': '0', 'localized_name': 'Viper', 'name': 'npc_dota_hero_viper', 'primary_attr': 'agi', 'roles': \"['Carry', 'Durable', 'Initiator', 'Disabler']\"}, {'': '46', 'attack_type': 'Ranged', 'id': '48', 'legs': '2', 'localized_name': 'Luna', 'name': 'npc_dota_hero_luna', 'primary_attr': 'agi', 'roles': \"['Carry', 'Nuker', 'Pusher']\"}, {'': '47', 'attack_type': 'Melee', 'id': '49', 'legs': '2', 'localized_name': 'Dragon Knight', 'name': 'npc_dota_hero_dragon_knight', 'primary_attr': 'str', 'roles': \"['Carry', 'Pusher', 'Durable', 'Disabler', 'Initiator', 'Nuker']\"}, {'': '48', 'attack_type': 'Ranged', 'id': '50', 'legs': '2', 'localized_name': 'Dazzle', 'name': 'npc_dota_hero_dazzle', 'primary_attr': 'int', 'roles': \"['Support', 'Nuker', 'Disabler']\"}, {'': '49', 'attack_type': 'Melee', 'id': '51', 'legs': '2', 'localized_name': 'Clockwerk', 'name': 'npc_dota_hero_rattletrap', 'primary_attr': 'str', 'roles': \"['Initiator', 'Disabler', 'Durable', 'Nuker']\"}, {'': '50', 'attack_type': 'Ranged', 'id': '52', 'legs': '4', 'localized_name': 'Leshrac', 'name': 'npc_dota_hero_leshrac', 'primary_attr': 'int', 'roles': \"['Carry', 'Support', 'Nuker', 'Pusher', 'Disabler']\"}, {'': '51', 'attack_type': 'Ranged', 'id': '53', 'legs': '2', 'localized_name': \"Nature's Prophet\", 'name': 'npc_dota_hero_furion', 'primary_attr': 'int', 'roles': \"['Carry', 'Jungler', 'Pusher', 'Escape', 'Nuker']\"}, {'': '52', 'attack_type': 'Melee', 'id': '54', 'legs': '2', 'localized_name': 'Lifestealer', 'name': 'npc_dota_hero_life_stealer', 'primary_attr': 'str', 'roles': \"['Carry', 'Durable', 'Jungler', 'Escape', 'Disabler']\"}, {'': '53', 'attack_type': 'Melee', 'id': '55', 'legs': '2', 'localized_name': 'Dark Seer', 'name': 'npc_dota_hero_dark_seer', 'primary_attr': 'int', 'roles': \"['Initiator', 'Jungler', 'Escape', 'Disabler']\"}, {'': '54', 'attack_type': 'Ranged', 'id': '56', 'legs': '2', 'localized_name': 'Clinkz', 'name': 'npc_dota_hero_clinkz', 'primary_attr': 'agi', 'roles': \"['Carry', 'Escape', 'Pusher']\"}, {'': '55', 'attack_type': 'Melee', 'id': '57', 'legs': '2', 'localized_name': 'Omniknight', 'name': 'npc_dota_hero_omniknight', 'primary_attr': 'str', 'roles': \"['Support', 'Durable', 'Nuker']\"}, {'': '56', 'attack_type': 'Ranged', 'id': '58', 'legs': '4', 'localized_name': 'Enchantress', 'name': 'npc_dota_hero_enchantress', 'primary_attr': 'int', 'roles': \"['Support', 'Jungler', 'Pusher', 'Durable', 'Disabler']\"}, {'': '57', 'attack_type': 'Ranged', 'id': '59', 'legs': '2', 'localized_name': 'Huskar', 'name': 'npc_dota_hero_huskar', 'primary_attr': 'str', 'roles': \"['Carry', 'Durable', 'Initiator']\"}, {'': '58', 'attack_type': 'Melee', 'id': '60', 'legs': '2', 'localized_name': 'Night Stalker', 'name': 'npc_dota_hero_night_stalker', 'primary_attr': 'str', 'roles': \"['Carry', 'Initiator', 'Durable', 'Disabler', 'Nuker']\"}, {'': '59', 'attack_type': 'Melee', 'id': '61', 'legs': '8', 'localized_name': 'Broodmother', 'name': 'npc_dota_hero_broodmother', 'primary_attr': 'agi', 'roles': \"['Carry', 'Pusher', 'Escape', 'Nuker']\"}, {'': '60', 'attack_type': 'Melee', 'id': '62', 'legs': '2', 'localized_name': 'Bounty Hunter', 'name': 'npc_dota_hero_bounty_hunter', 'primary_attr': 'agi', 'roles': \"['Escape', 'Nuker']\"}, {'': '61', 'attack_type': 'Ranged', 'id': '63', 'legs': '4', 'localized_name': 'Weaver', 'name': 'npc_dota_hero_weaver', 'primary_attr': 'agi', 'roles': \"['Carry', 'Escape']\"}, {'': '62', 'attack_type': 'Ranged', 'id': '64', 'legs': '2', 'localized_name': 'Jakiro', 'name': 'npc_dota_hero_jakiro', 'primary_attr': 'int', 'roles': \"['Support', 'Nuker', 'Pusher', 'Disabler']\"}, {'': '63', 'attack_type': 'Ranged', 'id': '65', 'legs': '2', 'localized_name': 'Batrider', 'name': 'npc_dota_hero_batrider', 'primary_attr': 'int', 'roles': \"['Initiator', 'Jungler', 'Disabler', 'Escape']\"}, {'': '64', 'attack_type': 'Ranged', 'id': '66', 'legs': '2', 'localized_name': 'Chen', 'name': 'npc_dota_hero_chen', 'primary_attr': 'int', 'roles': \"['Support', 'Jungler', 'Pusher']\"}, {'': '65', 'attack_type': 'Melee', 'id': '67', 'legs': '0', 'localized_name': 'Spectre', 'name': 'npc_dota_hero_spectre', 'primary_attr': 'agi', 'roles': \"['Carry', 'Durable', 'Escape']\"}, {'': '66', 'attack_type': 'Ranged', 'id': '68', 'legs': '2', 'localized_name': 'Ancient Apparition', 'name': 'npc_dota_hero_ancient_apparition', 'primary_attr': 'int', 'roles': \"['Support', 'Disabler', 'Nuker']\"}, {'': '67', 'attack_type': 'Melee', 'id': '69', 'legs': '2', 'localized_name': 'Doom', 'name': 'npc_dota_hero_doom_bringer', 'primary_attr': 'str', 'roles': \"['Carry', 'Disabler', 'Initiator', 'Durable', 'Nuker']\"}, {'': '68', 'attack_type': 'Melee', 'id': '70', 'legs': '2', 'localized_name': 'Ursa', 'name': 'npc_dota_hero_ursa', 'primary_attr': 'agi', 'roles': \"['Carry', 'Jungler', 'Durable', 'Disabler']\"}, {'': '69', 'attack_type': 'Melee', 'id': '71', 'legs': '2', 'localized_name': 'Spirit Breaker', 'name': 'npc_dota_hero_spirit_breaker', 'primary_attr': 'str', 'roles': \"['Carry', 'Initiator', 'Disabler', 'Durable', 'Escape']\"}, {'': '70', 'attack_type': 'Ranged', 'id': '72', 'legs': '2', 'localized_name': 'Gyrocopter', 'name': 'npc_dota_hero_gyrocopter', 'primary_attr': 'agi', 'roles': \"['Carry', 'Nuker', 'Disabler']\"}, {'': '71', 'attack_type': 'Melee', 'id': '73', 'legs': '2', 'localized_name': 'Alchemist', 'name': 'npc_dota_hero_alchemist', 'primary_attr': 'str', 'roles': \"['Carry', 'Support', 'Durable', 'Disabler', 'Initiator', 'Nuker']\"}, {'': '72', 'attack_type': 'Ranged', 'id': '74', 'legs': '2', 'localized_name': 'Invoker', 'name': 'npc_dota_hero_invoker', 'primary_attr': 'int', 'roles': \"['Carry', 'Nuker', 'Disabler', 'Escape', 'Pusher']\"}, {'': '73', 'attack_type': 'Ranged', 'id': '75', 'legs': '2', 'localized_name': 'Silencer', 'name': 'npc_dota_hero_silencer', 'primary_attr': 'int', 'roles': \"['Carry', 'Support', 'Disabler', 'Initiator', 'Nuker']\"}, {'': '74', 'attack_type': 'Ranged', 'id': '76', 'legs': '4', 'localized_name': 'Outworld Devourer', 'name': 'npc_dota_hero_obsidian_destroyer', 'primary_attr': 'int', 'roles': \"['Carry', 'Nuker', 'Disabler']\"}, {'': '75', 'attack_type': 'Melee', 'id': '77', 'legs': '2', 'localized_name': 'Lycan', 'name': 'npc_dota_hero_lycan', 'primary_attr': 'str', 'roles': \"['Carry', 'Pusher', 'Jungler', 'Durable', 'Escape']\"}, {'': '76', 'attack_type': 'Melee', 'id': '78', 'legs': '2', 'localized_name': 'Brewmaster', 'name': 'npc_dota_hero_brewmaster', 'primary_attr': 'str', 'roles': \"['Carry', 'Initiator', 'Durable', 'Disabler', 'Nuker']\"}, {'': '77', 'attack_type': 'Ranged', 'id': '79', 'legs': '2', 'localized_name': 'Shadow Demon', 'name': 'npc_dota_hero_shadow_demon', 'primary_attr': 'int', 'roles': \"['Support', 'Disabler', 'Initiator', 'Nuker']\"}, {'': '78', 'attack_type': 'Ranged', 'id': '80', 'legs': '2', 'localized_name': 'Lone Druid', 'name': 'npc_dota_hero_lone_druid', 'primary_attr': 'agi', 'roles': \"['Carry', 'Pusher', 'Jungler', 'Durable']\"}, {'': '79', 'attack_type': 'Melee', 'id': '81', 'legs': '2', 'localized_name': 'Chaos Knight', 'name': 'npc_dota_hero_chaos_knight', 'primary_attr': 'str', 'roles': \"['Carry', 'Disabler', 'Durable', 'Pusher', 'Initiator']\"}, {'': '80', 'attack_type': 'Melee', 'id': '82', 'legs': '2', 'localized_name': 'Meepo', 'name': 'npc_dota_hero_meepo', 'primary_attr': 'agi', 'roles': \"['Carry', 'Escape', 'Nuker', 'Disabler', 'Initiator', 'Pusher']\"}, {'': '81', 'attack_type': 'Melee', 'id': '83', 'legs': '2', 'localized_name': 'Treant Protector', 'name': 'npc_dota_hero_treant', 'primary_attr': 'str', 'roles': \"['Support', 'Initiator', 'Durable', 'Disabler', 'Escape']\"}, {'': '82', 'attack_type': 'Melee', 'id': '84', 'legs': '2', 'localized_name': 'Ogre Magi', 'name': 'npc_dota_hero_ogre_magi', 'primary_attr': 'int', 'roles': \"['Support', 'Nuker', 'Disabler', 'Durable', 'Initiator']\"}, {'': '83', 'attack_type': 'Melee', 'id': '85', 'legs': '2', 'localized_name': 'Undying', 'name': 'npc_dota_hero_undying', 'primary_attr': 'str', 'roles': \"['Support', 'Durable', 'Disabler', 'Nuker']\"}, {'': '84', 'attack_type': 'Ranged', 'id': '86', 'legs': '2', 'localized_name': 'Rubick', 'name': 'npc_dota_hero_rubick', 'primary_attr': 'int', 'roles': \"['Support', 'Disabler', 'Nuker']\"}, {'': '85', 'attack_type': 'Ranged', 'id': '87', 'legs': '2', 'localized_name': 'Disruptor', 'name': 'npc_dota_hero_disruptor', 'primary_attr': 'int', 'roles': \"['Support', 'Disabler', 'Nuker', 'Initiator']\"}, {'': '86', 'attack_type': 'Melee', 'id': '88', 'legs': '6', 'localized_name': 'Nyx Assassin', 'name': 'npc_dota_hero_nyx_assassin', 'primary_attr': 'agi', 'roles': \"['Disabler', 'Nuker', 'Initiator', 'Escape']\"}, {'': '87', 'attack_type': 'Melee', 'id': '89', 'legs': '0', 'localized_name': 'Naga Siren', 'name': 'npc_dota_hero_naga_siren', 'primary_attr': 'agi', 'roles': \"['Carry', 'Support', 'Pusher', 'Disabler', 'Initiator', 'Escape']\"}, {'': '88', 'attack_type': 'Ranged', 'id': '90', 'legs': '2', 'localized_name': 'Keeper of the Light', 'name': 'npc_dota_hero_keeper_of_the_light', 'primary_attr': 'int', 'roles': \"['Support', 'Nuker', 'Disabler', 'Jungler']\"}, {'': '89', 'attack_type': 'Ranged', 'id': '91', 'legs': '0', 'localized_name': 'Io', 'name': 'npc_dota_hero_wisp', 'primary_attr': 'str', 'roles': \"['Support', 'Escape', 'Nuker']\"}, {'': '90', 'attack_type': 'Ranged', 'id': '92', 'legs': '2', 'localized_name': 'Visage', 'name': 'npc_dota_hero_visage', 'primary_attr': 'int', 'roles': \"['Support', 'Nuker', 'Durable', 'Disabler', 'Pusher']\"}, {'': '91', 'attack_type': 'Melee', 'id': '93', 'legs': '2', 'localized_name': 'Slark', 'name': 'npc_dota_hero_slark', 'primary_attr': 'agi', 'roles': \"['Carry', 'Escape', 'Disabler', 'Nuker']\"}, {'': '92', 'attack_type': 'Ranged', 'id': '94', 'legs': '0', 'localized_name': 'Medusa', 'name': 'npc_dota_hero_medusa', 'primary_attr': 'agi', 'roles': \"['Carry', 'Disabler', 'Durable']\"}, {'': '93', 'attack_type': 'Ranged', 'id': '95', 'legs': '2', 'localized_name': 'Troll Warlord', 'name': 'npc_dota_hero_troll_warlord', 'primary_attr': 'agi', 'roles': \"['Carry', 'Pusher', 'Disabler', 'Durable']\"}, {'': '94', 'attack_type': 'Melee', 'id': '96', 'legs': '4', 'localized_name': 'Centaur Warrunner', 'name': 'npc_dota_hero_centaur', 'primary_attr': 'str', 'roles': \"['Durable', 'Initiator', 'Disabler', 'Nuker', 'Escape']\"}, {'': '95', 'attack_type': 'Melee', 'id': '97', 'legs': '4', 'localized_name': 'Magnus', 'name': 'npc_dota_hero_magnataur', 'primary_attr': 'str', 'roles': \"['Initiator', 'Disabler', 'Nuker', 'Escape']\"}, {'': '96', 'attack_type': 'Melee', 'id': '98', 'legs': '2', 'localized_name': 'Timbersaw', 'name': 'npc_dota_hero_shredder', 'primary_attr': 'str', 'roles': \"['Nuker', 'Durable', 'Escape']\"}, {'': '97', 'attack_type': 'Melee', 'id': '99', 'legs': '2', 'localized_name': 'Bristleback', 'name': 'npc_dota_hero_bristleback', 'primary_attr': 'str', 'roles': \"['Carry', 'Durable', 'Initiator', 'Nuker']\"}, {'': '98', 'attack_type': 'Melee', 'id': '100', 'legs': '2', 'localized_name': 'Tusk', 'name': 'npc_dota_hero_tusk', 'primary_attr': 'str', 'roles': \"['Initiator', 'Disabler', 'Nuker']\"}, {'': '99', 'attack_type': 'Ranged', 'id': '101', 'legs': '2', 'localized_name': 'Skywrath Mage', 'name': 'npc_dota_hero_skywrath_mage', 'primary_attr': 'int', 'roles': \"['Support', 'Nuker', 'Disabler']\"}, {'': '100', 'attack_type': 'Melee', 'id': '102', 'legs': '2', 'localized_name': 'Abaddon', 'name': 'npc_dota_hero_abaddon', 'primary_attr': 'str', 'roles': \"['Support', 'Carry', 'Durable']\"}, {'': '101', 'attack_type': 'Melee', 'id': '103', 'legs': '2', 'localized_name': 'Elder Titan', 'name': 'npc_dota_hero_elder_titan', 'primary_attr': 'str', 'roles': \"['Initiator', 'Disabler', 'Nuker', 'Durable']\"}, {'': '102', 'attack_type': 'Melee', 'id': '104', 'legs': '2', 'localized_name': 'Legion Commander', 'name': 'npc_dota_hero_legion_commander', 'primary_attr': 'str', 'roles': \"['Carry', 'Disabler', 'Initiator', 'Durable', 'Nuker']\"}, {'': '103', 'attack_type': 'Ranged', 'id': '105', 'legs': '6', 'localized_name': 'Techies', 'name': 'npc_dota_hero_techies', 'primary_attr': 'int', 'roles': \"['Nuker', 'Disabler']\"}, {'': '104', 'attack_type': 'Melee', 'id': '106', 'legs': '2', 'localized_name': 'Ember Spirit', 'name': 'npc_dota_hero_ember_spirit', 'primary_attr': 'agi', 'roles': \"['Carry', 'Escape', 'Nuker', 'Disabler', 'Initiator']\"}, {'': '105', 'attack_type': 'Melee', 'id': '107', 'legs': '2', 'localized_name': 'Earth Spirit', 'name': 'npc_dota_hero_earth_spirit', 'primary_attr': 'str', 'roles': \"['Nuker', 'Escape', 'Disabler', 'Initiator', 'Durable']\"}, {'': '106', 'attack_type': 'Melee', 'id': '108', 'legs': '2', 'localized_name': 'Underlord', 'name': 'npc_dota_hero_abyssal_underlord', 'primary_attr': 'str', 'roles': \"['Support', 'Nuker', 'Disabler', 'Durable', 'Escape']\"}, {'': '107', 'attack_type': 'Melee', 'id': '109', 'legs': '2', 'localized_name': 'Terrorblade', 'name': 'npc_dota_hero_terrorblade', 'primary_attr': 'agi', 'roles': \"['Carry', 'Pusher', 'Nuker']\"}, {'': '108', 'attack_type': 'Ranged', 'id': '110', 'legs': '2', 'localized_name': 'Phoenix', 'name': 'npc_dota_hero_phoenix', 'primary_attr': 'str', 'roles': \"['Support', 'Nuker', 'Initiator', 'Escape', 'Disabler']\"}, {'': '109', 'attack_type': 'Ranged', 'id': '111', 'legs': '2', 'localized_name': 'Oracle', 'name': 'npc_dota_hero_oracle', 'primary_attr': 'int', 'roles': \"['Support', 'Nuker', 'Disabler', 'Escape']\"}, {'': '110', 'attack_type': 'Ranged', 'id': '112', 'legs': '2', 'localized_name': 'Winter Wyvern', 'name': 'npc_dota_hero_winter_wyvern', 'primary_attr': 'int', 'roles': \"['Support', 'Disabler', 'Nuker']\"}, {'': '111', 'attack_type': 'Ranged', 'id': '113', 'legs': '2', 'localized_name': 'Arc Warden', 'name': 'npc_dota_hero_arc_warden', 'primary_attr': 'agi', 'roles': \"['Carry', 'Escape', 'Nuker']\"}, {'': '112', 'attack_type': 'Melee', 'id': '114', 'legs': '2', 'localized_name': 'Monkey King', 'name': 'npc_dota_hero_monkey_king', 'primary_attr': 'agi', 'roles': \"['Carry', 'Escape', 'Disabler', 'Initiator']\"}, {'': '113', 'attack_type': 'Ranged', 'id': '119', 'legs': '2', 'localized_name': 'Dark Willow', 'name': 'npc_dota_hero_dark_willow', 'primary_attr': 'int', 'roles': \"['Support', 'Nuker', 'Disabler', 'Escape']\"}, {'': '114', 'attack_type': 'Melee', 'id': '120', 'legs': '2', 'localized_name': 'Pangolier', 'name': 'npc_dota_hero_pangolier', 'primary_attr': 'agi', 'roles': \"['Carry', 'Nuker', 'Disabler', 'Durable', 'Escape', 'Initiator']\"}, {'': '115', 'attack_type': 'Ranged', 'id': '121', 'legs': '2', 'localized_name': 'Grimstroke', 'name': 'npc_dota_hero_grimstroke', 'primary_attr': 'int', 'roles': \"['Support', 'Nuker', 'Disabler', 'Escape']\"}, {'': '116', 'attack_type': 'Melee', 'id': '129', 'legs': '2', 'localized_name': 'Mars', 'name': 'npc_dota_hero_mars', 'primary_attr': 'str', 'roles': \"['Carry', 'Initiator', 'Disabler', 'Durable']\"}]\n"
     ]
    }
   ],
   "source": [
    "# Example:\n",
    "with open('ml_hw/dota_hero_stats.csv', 'r') as csv_file:\n",
    "    string_stats = csv_file.read()\n",
    "parsed_data = parse_csv(string_stats)\n",
    "print(parsed_data)\n"
   ]
  },
  {
   "cell_type": "code",
   "execution_count": 5,
   "id": "ed5c61fd",
   "metadata": {},
   "outputs": [
    {
     "data": {
      "text/plain": [
       "'Broodmother'"
      ]
     },
     "execution_count": 5,
     "metadata": {},
     "output_type": "execute_result"
    }
   ],
   "source": [
    "# Max_legs\n",
    "Broodmother_string = max(parsed_data, key = lambda x: x['legs'])\n",
    "Broodmother_string[\"localized_name\"]"
   ]
  }
 ],
 "metadata": {
  "kernelspec": {
   "display_name": "Python 3 (ipykernel)",
   "language": "python",
   "name": "python3"
  },
  "language_info": {
   "codemirror_mode": {
    "name": "ipython",
    "version": 3
   },
   "file_extension": ".py",
   "mimetype": "text/x-python",
   "name": "python",
   "nbconvert_exporter": "python",
   "pygments_lexer": "ipython3",
   "version": "3.11.4"
  }
 },
 "nbformat": 4,
 "nbformat_minor": 5
}
